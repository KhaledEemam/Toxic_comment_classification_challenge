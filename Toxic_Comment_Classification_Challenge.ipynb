{
  "cells": [
    {
      "cell_type": "markdown",
      "metadata": {
        "id": "cBuzKRS3bH16"
      },
      "source": [
        "# **Importing Packages & Dependencies**"
      ]
    },
    {
      "cell_type": "code",
      "execution_count": 1,
      "metadata": {
        "colab": {
          "base_uri": "https://localhost:8080/"
        },
        "id": "_xBrhDfxbIYh",
        "outputId": "46f543c0-c208-47d2-d59d-b83db0bb15e8"
      },
      "outputs": [
        {
          "output_type": "stream",
          "name": "stderr",
          "text": [
            "[nltk_data] Downloading package punkt to /root/nltk_data...\n",
            "[nltk_data]   Unzipping tokenizers/punkt.zip.\n",
            "[nltk_data] Downloading package stopwords to /root/nltk_data...\n",
            "[nltk_data]   Unzipping corpora/stopwords.zip.\n",
            "[nltk_data] Downloading package wordnet to /root/nltk_data...\n",
            "[nltk_data] Downloading package omw-1.4 to /root/nltk_data...\n"
          ]
        }
      ],
      "source": [
        "import numpy as np\n",
        "import pandas as pd\n",
        "import seaborn as sns\n",
        "from matplotlib import pyplot as plt\n",
        "\n",
        "import nltk\n",
        "nltk.download('punkt')\n",
        "from nltk.stem.porter import PorterStemmer\n",
        "from nltk.stem import WordNetLemmatizer\n",
        "from nltk.tokenize import word_tokenize\n",
        "\n",
        "from nltk.corpus import stopwords\n",
        "nltk.download('stopwords')\n",
        "nltk.download('wordnet')\n",
        "nltk.download('omw-1.4')\n",
        "stop_words = stopwords.words('english')\n",
        "import html\n",
        "\n",
        "import pandas as pd\n",
        "import numpy as np\n",
        "import re\n",
        "import string\n",
        "\n",
        "import seaborn as sns\n",
        "import matplotlib.pyplot as plt\n",
        "\n",
        "import gensim\n",
        "\n",
        "from tensorflow.keras.preprocessing.text import text_to_word_sequence\n",
        "from tensorflow.keras.preprocessing.text import Tokenizer  \n",
        "from tensorflow.keras.preprocessing.sequence import pad_sequences\n",
        "from tensorflow.keras import models\n",
        "from tensorflow.keras import layers\n",
        "from tensorflow.keras import losses\n",
        "from tensorflow.keras import metrics\n",
        "from tensorflow.keras import optimizers\n",
        "from tensorflow.keras.utils import plot_model"
      ]
    },
    {
      "cell_type": "markdown",
      "metadata": {
        "id": "QVA1rl-RYk3d"
      },
      "source": [
        "# **Mounting Google drive**"
      ]
    },
    {
      "cell_type": "code",
      "execution_count": 2,
      "metadata": {
        "colab": {
          "base_uri": "https://localhost:8080/"
        },
        "id": "BQm4aRHpYzwu",
        "outputId": "3552a613-3010-4a85-db1a-9ca7fceb42ae"
      },
      "outputs": [
        {
          "output_type": "stream",
          "name": "stdout",
          "text": [
            "Mounted at /gdrive\n"
          ]
        }
      ],
      "source": [
        "from google.colab import drive\n",
        "drive.mount('/gdrive')"
      ]
    },
    {
      "cell_type": "markdown",
      "metadata": {
        "id": "yWCY9zzWYhJQ"
      },
      "source": [
        "# **Imporing data from Google Drive**"
      ]
    },
    {
      "cell_type": "code",
      "execution_count": 3,
      "metadata": {
        "colab": {
          "base_uri": "https://localhost:8080/"
        },
        "id": "QbBrYTS8Zygf",
        "outputId": "588d69da-fbb5-417d-c04d-dbafda39090f"
      },
      "outputs": [
        {
          "output_type": "stream",
          "name": "stdout",
          "text": [
            "Archive:  /gdrive/My Drive/Datasets/Toxic Comment Classification Challenge/train.csv.zip\n",
            "  inflating: /content/dataset/train.csv  \n"
          ]
        }
      ],
      "source": [
        "! unzip '/gdrive/My Drive/Datasets/Toxic Comment Classification Challenge/train.csv.zip' -d /content/dataset"
      ]
    },
    {
      "cell_type": "code",
      "execution_count": 4,
      "metadata": {
        "id": "XKBsyKtAa4Ls"
      },
      "outputs": [],
      "source": [
        "train = pd.read_csv(\"/content/dataset/train.csv\")"
      ]
    },
    {
      "cell_type": "markdown",
      "metadata": {
        "id": "clT0dt9Eb5g1"
      },
      "source": [
        "# **Exploring Data**"
      ]
    },
    {
      "cell_type": "code",
      "execution_count": 5,
      "metadata": {
        "colab": {
          "base_uri": "https://localhost:8080/",
          "height": 206
        },
        "id": "8hCQGrmpQb7g",
        "outputId": "81fca146-7ba7-4b8c-8393-2c298a4e83ab"
      },
      "outputs": [
        {
          "output_type": "execute_result",
          "data": {
            "text/plain": [
              "                 id                                       comment_text  toxic  \\\n",
              "0  0000997932d777bf  Explanation\\nWhy the edits made under my usern...      0   \n",
              "1  000103f0d9cfb60f  D'aww! He matches this background colour I'm s...      0   \n",
              "2  000113f07ec002fd  Hey man, I'm really not trying to edit war. It...      0   \n",
              "3  0001b41b1c6bb37e  \"\\nMore\\nI can't make any real suggestions on ...      0   \n",
              "4  0001d958c54c6e35  You, sir, are my hero. Any chance you remember...      0   \n",
              "\n",
              "   severe_toxic  obscene  threat  insult  identity_hate  \n",
              "0             0        0       0       0              0  \n",
              "1             0        0       0       0              0  \n",
              "2             0        0       0       0              0  \n",
              "3             0        0       0       0              0  \n",
              "4             0        0       0       0              0  "
            ],
            "text/html": [
              "\n",
              "  <div id=\"df-c7c5deea-2cfb-4b3d-9ef1-cdf263efce5f\">\n",
              "    <div class=\"colab-df-container\">\n",
              "      <div>\n",
              "<style scoped>\n",
              "    .dataframe tbody tr th:only-of-type {\n",
              "        vertical-align: middle;\n",
              "    }\n",
              "\n",
              "    .dataframe tbody tr th {\n",
              "        vertical-align: top;\n",
              "    }\n",
              "\n",
              "    .dataframe thead th {\n",
              "        text-align: right;\n",
              "    }\n",
              "</style>\n",
              "<table border=\"1\" class=\"dataframe\">\n",
              "  <thead>\n",
              "    <tr style=\"text-align: right;\">\n",
              "      <th></th>\n",
              "      <th>id</th>\n",
              "      <th>comment_text</th>\n",
              "      <th>toxic</th>\n",
              "      <th>severe_toxic</th>\n",
              "      <th>obscene</th>\n",
              "      <th>threat</th>\n",
              "      <th>insult</th>\n",
              "      <th>identity_hate</th>\n",
              "    </tr>\n",
              "  </thead>\n",
              "  <tbody>\n",
              "    <tr>\n",
              "      <th>0</th>\n",
              "      <td>0000997932d777bf</td>\n",
              "      <td>Explanation\\nWhy the edits made under my usern...</td>\n",
              "      <td>0</td>\n",
              "      <td>0</td>\n",
              "      <td>0</td>\n",
              "      <td>0</td>\n",
              "      <td>0</td>\n",
              "      <td>0</td>\n",
              "    </tr>\n",
              "    <tr>\n",
              "      <th>1</th>\n",
              "      <td>000103f0d9cfb60f</td>\n",
              "      <td>D'aww! He matches this background colour I'm s...</td>\n",
              "      <td>0</td>\n",
              "      <td>0</td>\n",
              "      <td>0</td>\n",
              "      <td>0</td>\n",
              "      <td>0</td>\n",
              "      <td>0</td>\n",
              "    </tr>\n",
              "    <tr>\n",
              "      <th>2</th>\n",
              "      <td>000113f07ec002fd</td>\n",
              "      <td>Hey man, I'm really not trying to edit war. It...</td>\n",
              "      <td>0</td>\n",
              "      <td>0</td>\n",
              "      <td>0</td>\n",
              "      <td>0</td>\n",
              "      <td>0</td>\n",
              "      <td>0</td>\n",
              "    </tr>\n",
              "    <tr>\n",
              "      <th>3</th>\n",
              "      <td>0001b41b1c6bb37e</td>\n",
              "      <td>\"\\nMore\\nI can't make any real suggestions on ...</td>\n",
              "      <td>0</td>\n",
              "      <td>0</td>\n",
              "      <td>0</td>\n",
              "      <td>0</td>\n",
              "      <td>0</td>\n",
              "      <td>0</td>\n",
              "    </tr>\n",
              "    <tr>\n",
              "      <th>4</th>\n",
              "      <td>0001d958c54c6e35</td>\n",
              "      <td>You, sir, are my hero. Any chance you remember...</td>\n",
              "      <td>0</td>\n",
              "      <td>0</td>\n",
              "      <td>0</td>\n",
              "      <td>0</td>\n",
              "      <td>0</td>\n",
              "      <td>0</td>\n",
              "    </tr>\n",
              "  </tbody>\n",
              "</table>\n",
              "</div>\n",
              "      <button class=\"colab-df-convert\" onclick=\"convertToInteractive('df-c7c5deea-2cfb-4b3d-9ef1-cdf263efce5f')\"\n",
              "              title=\"Convert this dataframe to an interactive table.\"\n",
              "              style=\"display:none;\">\n",
              "        \n",
              "  <svg xmlns=\"http://www.w3.org/2000/svg\" height=\"24px\"viewBox=\"0 0 24 24\"\n",
              "       width=\"24px\">\n",
              "    <path d=\"M0 0h24v24H0V0z\" fill=\"none\"/>\n",
              "    <path d=\"M18.56 5.44l.94 2.06.94-2.06 2.06-.94-2.06-.94-.94-2.06-.94 2.06-2.06.94zm-11 1L8.5 8.5l.94-2.06 2.06-.94-2.06-.94L8.5 2.5l-.94 2.06-2.06.94zm10 10l.94 2.06.94-2.06 2.06-.94-2.06-.94-.94-2.06-.94 2.06-2.06.94z\"/><path d=\"M17.41 7.96l-1.37-1.37c-.4-.4-.92-.59-1.43-.59-.52 0-1.04.2-1.43.59L10.3 9.45l-7.72 7.72c-.78.78-.78 2.05 0 2.83L4 21.41c.39.39.9.59 1.41.59.51 0 1.02-.2 1.41-.59l7.78-7.78 2.81-2.81c.8-.78.8-2.07 0-2.86zM5.41 20L4 18.59l7.72-7.72 1.47 1.35L5.41 20z\"/>\n",
              "  </svg>\n",
              "      </button>\n",
              "      \n",
              "  <style>\n",
              "    .colab-df-container {\n",
              "      display:flex;\n",
              "      flex-wrap:wrap;\n",
              "      gap: 12px;\n",
              "    }\n",
              "\n",
              "    .colab-df-convert {\n",
              "      background-color: #E8F0FE;\n",
              "      border: none;\n",
              "      border-radius: 50%;\n",
              "      cursor: pointer;\n",
              "      display: none;\n",
              "      fill: #1967D2;\n",
              "      height: 32px;\n",
              "      padding: 0 0 0 0;\n",
              "      width: 32px;\n",
              "    }\n",
              "\n",
              "    .colab-df-convert:hover {\n",
              "      background-color: #E2EBFA;\n",
              "      box-shadow: 0px 1px 2px rgba(60, 64, 67, 0.3), 0px 1px 3px 1px rgba(60, 64, 67, 0.15);\n",
              "      fill: #174EA6;\n",
              "    }\n",
              "\n",
              "    [theme=dark] .colab-df-convert {\n",
              "      background-color: #3B4455;\n",
              "      fill: #D2E3FC;\n",
              "    }\n",
              "\n",
              "    [theme=dark] .colab-df-convert:hover {\n",
              "      background-color: #434B5C;\n",
              "      box-shadow: 0px 1px 3px 1px rgba(0, 0, 0, 0.15);\n",
              "      filter: drop-shadow(0px 1px 2px rgba(0, 0, 0, 0.3));\n",
              "      fill: #FFFFFF;\n",
              "    }\n",
              "  </style>\n",
              "\n",
              "      <script>\n",
              "        const buttonEl =\n",
              "          document.querySelector('#df-c7c5deea-2cfb-4b3d-9ef1-cdf263efce5f button.colab-df-convert');\n",
              "        buttonEl.style.display =\n",
              "          google.colab.kernel.accessAllowed ? 'block' : 'none';\n",
              "\n",
              "        async function convertToInteractive(key) {\n",
              "          const element = document.querySelector('#df-c7c5deea-2cfb-4b3d-9ef1-cdf263efce5f');\n",
              "          const dataTable =\n",
              "            await google.colab.kernel.invokeFunction('convertToInteractive',\n",
              "                                                     [key], {});\n",
              "          if (!dataTable) return;\n",
              "\n",
              "          const docLinkHtml = 'Like what you see? Visit the ' +\n",
              "            '<a target=\"_blank\" href=https://colab.research.google.com/notebooks/data_table.ipynb>data table notebook</a>'\n",
              "            + ' to learn more about interactive tables.';\n",
              "          element.innerHTML = '';\n",
              "          dataTable['output_type'] = 'display_data';\n",
              "          await google.colab.output.renderOutput(dataTable, element);\n",
              "          const docLink = document.createElement('div');\n",
              "          docLink.innerHTML = docLinkHtml;\n",
              "          element.appendChild(docLink);\n",
              "        }\n",
              "      </script>\n",
              "    </div>\n",
              "  </div>\n",
              "  "
            ]
          },
          "metadata": {},
          "execution_count": 5
        }
      ],
      "source": [
        "train.head()"
      ]
    },
    {
      "cell_type": "code",
      "execution_count": 6,
      "metadata": {
        "colab": {
          "base_uri": "https://localhost:8080/",
          "height": 52
        },
        "id": "WLs3GtlwQr9R",
        "outputId": "0b504c95-d06c-47a2-ad54-056922f1fc2a"
      },
      "outputs": [
        {
          "output_type": "execute_result",
          "data": {
            "text/plain": [
              "\"Explanation\\nWhy the edits made under my username Hardcore Metallica Fan were reverted? They weren't vandalisms, just closure on some GAs after I voted at New York Dolls FAC. And please don't remove the template from the talk page since I'm retired now.89.205.38.27\""
            ],
            "application/vnd.google.colaboratory.intrinsic+json": {
              "type": "string"
            }
          },
          "metadata": {},
          "execution_count": 6
        }
      ],
      "source": [
        "#sample text to visualize\n",
        "train[\"comment_text\"][0]"
      ]
    },
    {
      "cell_type": "code",
      "execution_count": 7,
      "metadata": {
        "colab": {
          "base_uri": "https://localhost:8080/",
          "height": 281
        },
        "id": "10xQWKdWQ33K",
        "outputId": "366c77e3-7a30-4456-afdd-4530d7760be5"
      },
      "outputs": [
        {
          "output_type": "display_data",
          "data": {
            "text/plain": [
              "<Figure size 432x288 with 1 Axes>"
            ],
            "image/png": "[encoded data removed]"
          },
          "metadata": {
            "needs_background": "light"
          }
        }
      ],
      "source": [
        "# visualizing length of comments using histogram plot\n",
        "sentences_length = [len(sentence) for sentence in train[\"comment_text\"] ]\n",
        "plt.hist(sentences_length , bins = 500 )\n",
        "plt.title(\"Length of comments\")\n",
        "plt.show()"
      ]
    },
    {
      "cell_type": "code",
      "execution_count": 8,
      "metadata": {
        "id": "OTAJaS9fc5IG"
      },
      "outputs": [],
      "source": [
        "feature = train.drop([\"id\",\"comment_text\"],axis = 1)"
      ]
    },
    {
      "cell_type": "code",
      "execution_count": 9,
      "metadata": {
        "id": "2NhcL7LAfLe5"
      },
      "outputs": [],
      "source": [
        "# aggregating counts of each class of comments \n",
        "counts = []\n",
        "categories = list(feature.columns)\n",
        "for i in categories :\n",
        "  counts.append((i,feature[i].sum()))"
      ]
    },
    {
      "cell_type": "code",
      "execution_count": 10,
      "metadata": {
        "colab": {
          "base_uri": "https://localhost:8080/",
          "height": 569
        },
        "id": "i6sMpec7gEKx",
        "outputId": "13592da2-7216-4453-a196-c4de95efc641"
      },
      "outputs": [
        {
          "output_type": "display_data",
          "data": {
            "text/plain": [
              "<Figure size 576x576 with 1 Axes>"
            ],
            "image/png": "[encoded data removed]"
          },
          "metadata": {
            "needs_background": "light"
          }
        }
      ],
      "source": [
        "# converting list of tuples into dataframe for visualizing comments per category\n",
        "df_1 = pd.DataFrame(counts , columns = ['Feature Labels', 'Total Comments'])\n",
        "df_1.plot(x = \"Feature Labels\" , y = \"Total Comments\" , kind = \"bar\" , figsize = (8,8))\n",
        "plt.title(\"Comments per category\")\n",
        "plt.xlabel('Feature Labels')\n",
        "plt.ylabel('Total comments')\n",
        "plt.show()"
      ]
    },
    {
      "cell_type": "markdown",
      "metadata": {
        "id": "fw-YjR5FjfWl"
      },
      "source": [
        "# **Text preprocessing**"
      ]
    },
    {
      "cell_type": "code",
      "execution_count": 11,
      "metadata": {
        "colab": {
          "base_uri": "https://localhost:8080/"
        },
        "id": "5x5vafVtjezr",
        "outputId": "24ede514-2cc5-412b-b2de-1eb57aa33931"
      },
      "outputs": [
        {
          "output_type": "execute_result",
          "data": {
            "text/plain": [
              "0    explanation edit make username hardcore metall...\n",
              "1    daww match background colour im seemingly stic...\n",
              "2    hey man im really try edit war guy constantly ...\n",
              "3    cant make real suggestion improvement wonder s...\n",
              "4                  sir hero chance remember page thats\n",
              "Name: comment_text, dtype: object"
            ]
          },
          "metadata": {},
          "execution_count": 11
        }
      ],
      "source": [
        "import string\n",
        "\n",
        "# defining function to remove special characters from text\n",
        "def remove_special_chars(text):\n",
        "    re1 = re.compile(r'  +')\n",
        "    x1 = text.lower().replace('#39;', \"'\").replace('amp;', '&').replace('#146;', \"'\").replace(\n",
        "        'nbsp;', ' ').replace('#36;', '$').replace('\\\\n', \"\\n\").replace('quot;', \"'\").replace(\n",
        "        '<br />', \"\\n\").replace('\\\\\"', '\"').replace('<unk>', 'u_n').replace(' @.@ ', '.').replace(\n",
        "        ' @-@ ', '-').replace('\\\\', ' \\\\ ')\n",
        "    return re1.sub(' ', html.unescape(x1))\n",
        "\n",
        "# defining function to remove punctuation\n",
        "def remove_puctuation(text) :\n",
        "  translator = str.maketrans('','',string.punctuation)\n",
        "  return text.translate(translator)\n",
        "\n",
        "# defining function to convert text into lower case\n",
        "def to_lowercase(text) :\n",
        "  return text.lower()\n",
        "\n",
        "# replacing numbers with texual representaion\n",
        "def replace_numbers(text):\n",
        "    \"\"\"Replace all interger occurrences in list of tokenized words with textual representation\"\"\"\n",
        "    return re.sub(r'\\d+', '', text)\n",
        "\n",
        "# removing white spaces\n",
        "def remove_whitespaces(text) :\n",
        "  return text.strip()\n",
        "\n",
        "def text2words(text):\n",
        "    return word_tokenize(text)\n",
        "\n",
        "def remove_stopwords(words, stop_words):\n",
        "  return [word for word in words if word not in stop_words]\n",
        "\n",
        "def stem_words(words):\n",
        "    \"\"\"Stem words in text\"\"\"\n",
        "    stemmer = PorterStemmer()\n",
        "    return [stemmer.stem(word) for word in words]\n",
        "\n",
        "def lemmatize_words(words):\n",
        "    \"\"\"Lemmatize words in text\"\"\"\n",
        "    lemmatizer = WordNetLemmatizer()\n",
        "    return [lemmatizer.lemmatize(word) for word in words]\n",
        "\n",
        "def lemmatize_verbs(words):\n",
        "    \"\"\"Lemmatize verbs in text\"\"\"\n",
        "    lemmatizer = WordNetLemmatizer()\n",
        "    return ' '.join([lemmatizer.lemmatize(word, pos='v') for word in words])\n",
        "\n",
        "\n",
        "def clean_text(text) :\n",
        "  text = remove_special_chars(text)\n",
        "  text = remove_puctuation(text)\n",
        "  text = to_lowercase(text)\n",
        "  text = replace_numbers(text)\n",
        "  words =  text2words(text)\n",
        "  words = remove_stopwords(words, stop_words)\n",
        "  words = lemmatize_words(words)\n",
        "  words = lemmatize_verbs(words)\n",
        "  return ''.join(words)\n",
        "\n",
        "\n",
        "train[\"comment_text\"] = train[\"comment_text\"].apply(lambda x : clean_text(x))\n",
        "train[\"comment_text\"].head()\n"
      ]
    },
    {
      "cell_type": "markdown",
      "metadata": {
        "id": "DYlZNex8TAUp"
      },
      "source": [
        "# **Vectorizing words BOW**"
      ]
    },
    {
      "cell_type": "code",
      "source": [
        "tok = Tokenizer(oov_token='UNK')\n",
        "tok.fit_on_texts(train['comment_text'] )\n",
        "# Extract binary BoW features\n",
        "x_train = tok.texts_to_sequences(train['comment_text'])\n",
        "\n",
        "vocab_size = len(tok.word_index) + 1"
      ],
      "metadata": {
        "id": "QioLlA3Td3Vk"
      },
      "execution_count": 12,
      "outputs": []
    },
    {
      "cell_type": "code",
      "source": [
        " len(tok.word_index)"
      ],
      "metadata": {
        "colab": {
          "base_uri": "https://localhost:8080/"
        },
        "id": "oGEMIzXXvuyv",
        "outputId": "1d99283a-2819-4b5d-b22d-f4100bfa6842"
      },
      "execution_count": 13,
      "outputs": [
        {
          "output_type": "execute_result",
          "data": {
            "text/plain": [
              "208756"
            ]
          },
          "metadata": {},
          "execution_count": 13
        }
      ]
    },
    {
      "cell_type": "markdown",
      "source": [
        "# **Visualizing models performance**"
      ],
      "metadata": {
        "id": "Adpnytk83PXo"
      }
    },
    {
      "cell_type": "code",
      "source": [
        "def plot_curves(model,name_of_model) :\n",
        "  history_dict = model.history\n",
        "  history_dict.keys()\n",
        "  acc = model.history[\"accuracy\"]\n",
        "  val_acc = model.history[\"val_accuracy\"]\n",
        "  loss = model.history[\"loss\"]\n",
        "  val_loss = model.history[\"val_loss\"]\n",
        "\n",
        "  epochs = range(1, len(acc) + 1)\n",
        "\n",
        "  # \"bo\" is for \"blue dot\"\n",
        "  plt.plot(epochs, loss, marker ='o', label='Training loss')\n",
        "  # b is for \"solid blue line\"\n",
        "  plt.plot(epochs, val_loss, marker ='v', label='Validation loss')\n",
        "  plt.title('Training and validation loss for {} model'.format(name_of_model))\n",
        "  plt.xlabel('Epochs')\n",
        "  plt.ylabel('Loss')\n",
        "  plt.legend()\n",
        "  plt.show()\n",
        "\n",
        "\n",
        "  plt.plot(epochs, acc, marker ='o', label='Training auc')\n",
        "  plt.plot(epochs, val_acc, marker ='v', label='Validation auc')\n",
        "  plt.title('Training and validation accuracy for {} model'.format(name_of_model))\n",
        "  plt.xlabel('Epochs')\n",
        "  plt.ylabel('Accuracy')\n",
        "  plt.legend()\n",
        "  plt.show()"
      ],
      "metadata": {
        "id": "xDRoNgLj3Pjl"
      },
      "execution_count": 14,
      "outputs": []
    },
    {
      "cell_type": "markdown",
      "source": [
        "# **Padding sequences**"
      ],
      "metadata": {
        "id": "IoEy21IIe1F9"
      }
    },
    {
      "cell_type": "code",
      "source": [
        "maxlen = max([len(t) for t in x_train])\n",
        "avg_len = np.mean([len(t) for t in x_train])\n",
        "print(\"max length of comments = {}\".format(maxlen))\n",
        "print(\"Average length of comments = {}\".format(avg_len))"
      ],
      "metadata": {
        "colab": {
          "base_uri": "https://localhost:8080/"
        },
        "id": "zQDxb0bh8ZkH",
        "outputId": "a480c571-9f03-4de3-8d36-2e8d280bc25e"
      },
      "execution_count": 15,
      "outputs": [
        {
          "output_type": "stream",
          "name": "stdout",
          "text": [
            "max length of comments = 1250\n",
            "Average length of comments = 34.40939143077376\n"
          ]
        }
      ]
    },
    {
      "cell_type": "markdown",
      "source": [
        "Here i will use padding sequence with maxlen = 50 , since that 50 words should always be enough to classify the comment."
      ],
      "metadata": {
        "id": "K9goVBb0BdoC"
      }
    },
    {
      "cell_type": "code",
      "source": [
        "training_padded = pad_sequences(x_train,maxlen=50, truncating='post', padding='post')"
      ],
      "metadata": {
        "id": "yIUwsat0e8xt"
      },
      "execution_count": 16,
      "outputs": []
    },
    {
      "cell_type": "markdown",
      "source": [
        "# **Splitting data into training & testing sets**"
      ],
      "metadata": {
        "id": "Mj5XjB6Zf9ix"
      }
    },
    {
      "cell_type": "code",
      "source": [
        "from sklearn.model_selection import train_test_split\n",
        "\n",
        "x = training_padded\n",
        "y = train[['toxic' ,'severe_toxic' ,'obscene' ,'threat' ,'insult' ,'identity_hate']]\n",
        "x_train , x_test , y_train, y_test = train_test_split(x, y, test_size=0.1, shuffle = True, random_state=42)"
      ],
      "metadata": {
        "id": "98QzzitQf96S"
      },
      "execution_count": 17,
      "outputs": []
    },
    {
      "cell_type": "markdown",
      "source": [
        "# **LSTM model**"
      ],
      "metadata": {
        "id": "0xM98twL8cyG"
      }
    },
    {
      "cell_type": "markdown",
      "source": [
        "## **Model architecture**"
      ],
      "metadata": {
        "id": "f967_pYXLz30"
      }
    },
    {
      "cell_type": "code",
      "source": [
        "model = models.Sequential()\n",
        "model.add(layers.Embedding(vocab_size,128,input_length=50))\n",
        "model.add(layers.LSTM(512,dropout=.2 , recurrent_dropout = .2 , return_sequences = True))\n",
        "model.add(layers.LSTM(128,dropout = .2 , recurrent_dropout = .2 ))\n",
        "model.add(layers.Dense(16 , activation = \"relu\"))\n",
        "model.add(layers.Dense(6 , activation = \"sigmoid\"))\n",
        "\n",
        "\n",
        "model.compile(loss = \"binary_crossentropy\" , metrics = [\"accuracy\"] , optimizer = \"Adamax\")\n",
        "\n",
        "model.summary()"
      ],
      "metadata": {
        "colab": {
          "base_uri": "https://localhost:8080/"
        },
        "id": "lzfSfKEFfKgV",
        "outputId": "3a51fee6-3d61-4974-be5c-9c81bfecedcc"
      },
      "execution_count": 18,
      "outputs": [
        {
          "output_type": "stream",
          "name": "stderr",
          "text": [
            "WARNING:tensorflow:Layer lstm will not use cuDNN kernels since it doesn't meet the criteria. It will use a generic GPU kernel as fallback when running on GPU.\n",
            "WARNING:tensorflow:Layer lstm_1 will not use cuDNN kernels since it doesn't meet the criteria. It will use a generic GPU kernel as fallback when running on GPU.\n"
          ]
        },
        {
          "output_type": "stream",
          "name": "stdout",
          "text": [
            "Model: \"sequential\"\n",
            "_________________________________________________________________\n",
            " Layer (type)                Output Shape              Param #   \n",
            "=================================================================\n",
            " embedding (Embedding)       (None, 50, 128)           26720896  \n",
            "                                                                 \n",
            " lstm (LSTM)                 (None, 50, 512)           1312768   \n",
            "                                                                 \n",
            " lstm_1 (LSTM)               (None, 128)               328192    \n",
            "                                                                 \n",
            " dense (Dense)               (None, 16)                2064      \n",
            "                                                                 \n",
            " dense_1 (Dense)             (None, 6)                 102       \n",
            "                                                                 \n",
            "=================================================================\n",
            "Total params: 28,364,022\n",
            "Trainable params: 28,364,022\n",
            "Non-trainable params: 0\n",
            "_________________________________________________________________\n"
          ]
        }
      ]
    },
    {
      "cell_type": "markdown",
      "source": [
        "## **Model training**"
      ],
      "metadata": {
        "id": "bB51NrcdMF8V"
      }
    },
    {
      "cell_type": "code",
      "source": [
        "lstm_model = model.fit(x_train, y_train , validation_split = .2 , batch_size = 512 , epochs = 10)"
      ],
      "metadata": {
        "colab": {
          "base_uri": "https://localhost:8080/"
        },
        "id": "WxA455DZyVK5",
        "outputId": "24a25d38-27e6-4a74-c762-9fd641db1937"
      },
      "execution_count": 19,
      "outputs": [
        {
          "output_type": "stream",
          "name": "stdout",
          "text": [
            "Epoch 1/10\n",
            "225/225 [==============================] - 110s 454ms/step - loss: 0.1527 - accuracy: 0.9728 - val_loss: 0.1430 - val_accuracy: 0.9942\n",
            "Epoch 2/10\n",
            "225/225 [==============================] - 106s 470ms/step - loss: 0.1410 - accuracy: 0.9942 - val_loss: 0.1428 - val_accuracy: 0.9942\n",
            "Epoch 3/10\n",
            "225/225 [==============================] - 104s 463ms/step - loss: 0.1410 - accuracy: 0.9942 - val_loss: 0.1428 - val_accuracy: 0.9942\n",
            "Epoch 4/10\n",
            "225/225 [==============================] - 102s 454ms/step - loss: 0.1410 - accuracy: 0.9942 - val_loss: 0.1428 - val_accuracy: 0.9942\n",
            "Epoch 5/10\n",
            "225/225 [==============================] - 102s 453ms/step - loss: 0.1410 - accuracy: 0.9942 - val_loss: 0.1428 - val_accuracy: 0.9942\n",
            "Epoch 6/10\n",
            "225/225 [==============================] - 102s 454ms/step - loss: 0.1410 - accuracy: 0.9942 - val_loss: 0.1428 - val_accuracy: 0.9942\n",
            "Epoch 7/10\n",
            "225/225 [==============================] - 103s 456ms/step - loss: 0.1410 - accuracy: 0.9942 - val_loss: 0.1428 - val_accuracy: 0.9942\n",
            "Epoch 8/10\n",
            "225/225 [==============================] - 102s 454ms/step - loss: 0.1410 - accuracy: 0.9942 - val_loss: 0.1429 - val_accuracy: 0.9942\n",
            "Epoch 9/10\n",
            "225/225 [==============================] - 102s 452ms/step - loss: 0.1410 - accuracy: 0.9942 - val_loss: 0.1428 - val_accuracy: 0.9942\n",
            "Epoch 10/10\n",
            "225/225 [==============================] - 102s 452ms/step - loss: 0.1410 - accuracy: 0.9942 - val_loss: 0.1428 - val_accuracy: 0.9942\n"
          ]
        }
      ]
    },
    {
      "cell_type": "code",
      "source": [
        "! cd \"/gdrive/My Drive/Datasets/Toxic Comment Classification Challenge\""
      ],
      "metadata": {
        "id": "a_vuTaqdJhqJ"
      },
      "execution_count": 20,
      "outputs": []
    },
    {
      "cell_type": "markdown",
      "source": [
        "## **Saving model**"
      ],
      "metadata": {
        "id": "FYF9rOnbMPG1"
      }
    },
    {
      "cell_type": "code",
      "source": [
        "# saving model\n",
        "import pickle\n",
        "model.save(\"my_model\")\n",
        "pickle.dump(lstm_model,open(\"lstm_model.sav\",\"wb\"))"
      ],
      "metadata": {
        "id": "RsFV5NVDUP74",
        "colab": {
          "base_uri": "https://localhost:8080/"
        },
        "outputId": "4049b0dc-896e-4d64-9d70-fd612af7b756"
      },
      "execution_count": 21,
      "outputs": [
        {
          "output_type": "stream",
          "name": "stderr",
          "text": [
            "WARNING:absl:<keras.layers.recurrent.LSTMCell object at 0x7f824f042b10> has the same name 'LSTMCell' as a built-in Keras object. Consider renaming <class 'keras.layers.recurrent.LSTMCell'> to avoid naming conflicts when loading with `tf.keras.models.load_model`. If renaming is not possible, pass the object in the `custom_objects` parameter of the load function.\n",
            "WARNING:absl:<keras.layers.recurrent.LSTMCell object at 0x7f824f042b90> has the same name 'LSTMCell' as a built-in Keras object. Consider renaming <class 'keras.layers.recurrent.LSTMCell'> to avoid naming conflicts when loading with `tf.keras.models.load_model`. If renaming is not possible, pass the object in the `custom_objects` parameter of the load function.\n",
            "WARNING:absl:<keras.layers.recurrent.LSTMCell object at 0x7f824f042b10> has the same name 'LSTMCell' as a built-in Keras object. Consider renaming <class 'keras.layers.recurrent.LSTMCell'> to avoid naming conflicts when loading with `tf.keras.models.load_model`. If renaming is not possible, pass the object in the `custom_objects` parameter of the load function.\n",
            "WARNING:absl:<keras.layers.recurrent.LSTMCell object at 0x7f824f042b90> has the same name 'LSTMCell' as a built-in Keras object. Consider renaming <class 'keras.layers.recurrent.LSTMCell'> to avoid naming conflicts when loading with `tf.keras.models.load_model`. If renaming is not possible, pass the object in the `custom_objects` parameter of the load function.\n"
          ]
        }
      ]
    },
    {
      "cell_type": "code",
      "source": [
        "# loading model\n",
        "# import pickle\n",
        "# model = model.load(\"my_model\")\n",
        "# lstm_model = pickle.load(open(\"lstm_model.sav\",\"rb\"))"
      ],
      "metadata": {
        "id": "QwNpJTd2mdOZ"
      },
      "execution_count": 22,
      "outputs": []
    },
    {
      "cell_type": "code",
      "source": [
        "plot_curves(lstm_model,\"LSTM\")"
      ],
      "metadata": {
        "id": "JHMv41ZLzNBB",
        "colab": {
          "base_uri": "https://localhost:8080/",
          "height": 573
        },
        "outputId": "04b239a7-f46d-49ba-e0e0-d2ac00052e73"
      },
      "execution_count": 23,
      "outputs": [
        {
          "output_type": "display_data",
          "data": {
            "text/plain": [
              "<Figure size 432x288 with 1 Axes>"
            ],
            "image/png": "[encoded data removed]"
          },
          "metadata": {
            "needs_background": "light"
          }
        },
        {
          "output_type": "display_data",
          "data": {
            "text/plain": [
              "<Figure size 432x288 with 1 Axes>"
            ],
            "image/png": "[encoded data removed]"
          },
          "metadata": {
            "needs_background": "light"
          }
        }
      ]
    },
    {
      "cell_type": "markdown",
      "source": [
        "## **Testing Model**"
      ],
      "metadata": {
        "id": "35jiPcjRTcT1"
      }
    },
    {
      "cell_type": "code",
      "source": [
        "model.evaluate(x_test,y_test)"
      ],
      "metadata": {
        "colab": {
          "base_uri": "https://localhost:8080/"
        },
        "id": "wJ9B_f2HTfLv",
        "outputId": "469f085b-4762-4c1d-ffe0-504f105ad85e"
      },
      "execution_count": 24,
      "outputs": [
        {
          "output_type": "stream",
          "name": "stdout",
          "text": [
            "499/499 [==============================] - 17s 34ms/step - loss: 0.1389 - accuracy: 0.9940\n"
          ]
        },
        {
          "output_type": "execute_result",
          "data": {
            "text/plain": [
              "[0.13888736069202423, 0.9940468668937683]"
            ]
          },
          "metadata": {},
          "execution_count": 24
        }
      ]
    },
    {
      "cell_type": "markdown",
      "source": [
        "# **Using Bidirectional layer with LSTM**"
      ],
      "metadata": {
        "id": "ZQuFCosg3uhJ"
      }
    },
    {
      "cell_type": "markdown",
      "source": [
        "## **Defining & training model**"
      ],
      "metadata": {
        "id": "Ox_Sc4U0MVdD"
      }
    },
    {
      "cell_type": "code",
      "source": [
        "bidirectional_lstm_model = models.Sequential()\n",
        "bidirectional_lstm_model.add(layers.Embedding(vocab_size, 512, input_length=50))\n",
        "bidirectional_lstm_model.add(layers.Bidirectional(layers.LSTM(128, dropout=0.2, recurrent_dropout=0.2, return_sequences=True)))\n",
        "bidirectional_lstm_model.add(layers.Flatten())\n",
        "bidirectional_lstm_model.add(layers.Dense(16, activation='relu'))\n",
        "bidirectional_lstm_model.add(layers.Dense(6, activation='sigmoid'))\n",
        "\n",
        "bidirectional_lstm_model.compile(loss = \"binary_crossentropy\" , optimizer = \"Adamax\" , metrics = [\"accuracy\"] )\n",
        "trained_bidirectional_lstm_model = bidirectional_lstm_model.fit(x_train, y_train , validation_split = .2 , batch_size = 512 , epochs = 10)"
      ],
      "metadata": {
        "colab": {
          "base_uri": "https://localhost:8080/"
        },
        "id": "-u7t7uT63Cav",
        "outputId": "962df12a-17db-49d2-f583-ce7367155bc3"
      },
      "execution_count": 25,
      "outputs": [
        {
          "output_type": "stream",
          "name": "stderr",
          "text": [
            "WARNING:tensorflow:Layer lstm_2 will not use cuDNN kernels since it doesn't meet the criteria. It will use a generic GPU kernel as fallback when running on GPU.\n",
            "WARNING:tensorflow:Layer lstm_2 will not use cuDNN kernels since it doesn't meet the criteria. It will use a generic GPU kernel as fallback when running on GPU.\n",
            "WARNING:tensorflow:Layer lstm_2 will not use cuDNN kernels since it doesn't meet the criteria. It will use a generic GPU kernel as fallback when running on GPU.\n"
          ]
        },
        {
          "output_type": "stream",
          "name": "stdout",
          "text": [
            "Epoch 1/10\n",
            "225/225 [==============================] - 102s 434ms/step - loss: 0.1120 - accuracy: 0.6778 - val_loss: 0.0623 - val_accuracy: 0.9940\n",
            "Epoch 2/10\n",
            "225/225 [==============================] - 97s 431ms/step - loss: 0.0564 - accuracy: 0.9939 - val_loss: 0.0573 - val_accuracy: 0.9941\n",
            "Epoch 3/10\n",
            "225/225 [==============================] - 105s 468ms/step - loss: 0.0505 - accuracy: 0.9939 - val_loss: 0.0562 - val_accuracy: 0.9942\n",
            "Epoch 4/10\n",
            "225/225 [==============================] - 98s 434ms/step - loss: 0.0472 - accuracy: 0.9940 - val_loss: 0.0555 - val_accuracy: 0.9938\n",
            "Epoch 5/10\n",
            "225/225 [==============================] - 97s 429ms/step - loss: 0.0451 - accuracy: 0.9840 - val_loss: 0.0570 - val_accuracy: 0.9570\n",
            "Epoch 6/10\n",
            "225/225 [==============================] - 97s 429ms/step - loss: 0.0428 - accuracy: 0.9845 - val_loss: 0.0565 - val_accuracy: 0.9881\n",
            "Epoch 7/10\n",
            "225/225 [==============================] - 97s 432ms/step - loss: 0.0410 - accuracy: 0.9627 - val_loss: 0.0577 - val_accuracy: 0.9940\n",
            "Epoch 8/10\n",
            "225/225 [==============================] - 97s 431ms/step - loss: 0.0393 - accuracy: 0.9420 - val_loss: 0.0579 - val_accuracy: 0.9940\n",
            "Epoch 9/10\n",
            "225/225 [==============================] - 96s 428ms/step - loss: 0.0379 - accuracy: 0.9618 - val_loss: 0.0571 - val_accuracy: 0.9857\n",
            "Epoch 10/10\n",
            "225/225 [==============================] - 95s 424ms/step - loss: 0.0359 - accuracy: 0.9567 - val_loss: 0.0588 - val_accuracy: 0.9929\n"
          ]
        }
      ]
    },
    {
      "cell_type": "markdown",
      "source": [
        "## **Saving model**"
      ],
      "metadata": {
        "id": "RGY_RAtbMXxf"
      }
    },
    {
      "cell_type": "code",
      "source": [
        "# saving model\n",
        "import pickle\n",
        "bidirectional_lstm_model.save(\"my_2nd_model\")\n",
        "pickle.dump(trained_bidirectional_lstm_model,open(\"lstm_model.sav\",\"wb\"))"
      ],
      "metadata": {
        "id": "3uVu70KrVKLF",
        "colab": {
          "base_uri": "https://localhost:8080/"
        },
        "outputId": "f597d636-2c9d-478e-9e01-034e68bc33d9"
      },
      "execution_count": 26,
      "outputs": [
        {
          "output_type": "stream",
          "name": "stderr",
          "text": [
            "WARNING:absl:<keras.layers.recurrent.LSTMCell object at 0x7f81e04081d0> has the same name 'LSTMCell' as a built-in Keras object. Consider renaming <class 'keras.layers.recurrent.LSTMCell'> to avoid naming conflicts when loading with `tf.keras.models.load_model`. If renaming is not possible, pass the object in the `custom_objects` parameter of the load function.\n",
            "WARNING:absl:<keras.layers.recurrent.LSTMCell object at 0x7f81abc80d90> has the same name 'LSTMCell' as a built-in Keras object. Consider renaming <class 'keras.layers.recurrent.LSTMCell'> to avoid naming conflicts when loading with `tf.keras.models.load_model`. If renaming is not possible, pass the object in the `custom_objects` parameter of the load function.\n",
            "WARNING:absl:<keras.layers.recurrent.LSTMCell object at 0x7f81e04081d0> has the same name 'LSTMCell' as a built-in Keras object. Consider renaming <class 'keras.layers.recurrent.LSTMCell'> to avoid naming conflicts when loading with `tf.keras.models.load_model`. If renaming is not possible, pass the object in the `custom_objects` parameter of the load function.\n",
            "WARNING:absl:<keras.layers.recurrent.LSTMCell object at 0x7f81abc80d90> has the same name 'LSTMCell' as a built-in Keras object. Consider renaming <class 'keras.layers.recurrent.LSTMCell'> to avoid naming conflicts when loading with `tf.keras.models.load_model`. If renaming is not possible, pass the object in the `custom_objects` parameter of the load function.\n"
          ]
        }
      ]
    },
    {
      "cell_type": "code",
      "source": [
        "# loading model\n",
        "# import pickle\n",
        "# bidirectional_lstm_model = model.load(\"my_2nd_model\")\n",
        "# trained_bidirectional_lstm_model = pickle.load(open(\"lstm_model.sav\",\"rb\"))"
      ],
      "metadata": {
        "id": "ym7vaSNHmhMK"
      },
      "execution_count": 27,
      "outputs": []
    },
    {
      "cell_type": "code",
      "source": [
        "plot_curves(trained_bidirectional_lstm_model,\"Bidirectional LSTM\")"
      ],
      "metadata": {
        "id": "t7YKqqCr5eQN",
        "colab": {
          "base_uri": "https://localhost:8080/",
          "height": 573
        },
        "outputId": "a17f66b5-c816-48cc-b36b-76905f94c2ed"
      },
      "execution_count": 28,
      "outputs": [
        {
          "output_type": "display_data",
          "data": {
            "text/plain": [
              "<Figure size 432x288 with 1 Axes>"
            ],
            "image/png": "[encoded data removed]"
          },
          "metadata": {
            "needs_background": "light"
          }
        },
        {
          "output_type": "display_data",
          "data": {
            "text/plain": [
              "<Figure size 432x288 with 1 Axes>"
            ],
            "image/png": "[encoded data removed]"
          },
          "metadata": {
            "needs_background": "light"
          }
        }
      ]
    },
    {
      "cell_type": "markdown",
      "source": [
        "## **Testing Model**"
      ],
      "metadata": {
        "id": "2ofcPPwMURoy"
      }
    },
    {
      "cell_type": "code",
      "source": [
        "bidirectional_lstm_model.evaluate(x_test,y_test)"
      ],
      "metadata": {
        "id": "xNfXBIpeUTcH",
        "colab": {
          "base_uri": "https://localhost:8080/"
        },
        "outputId": "dcf0e79e-5a5c-47b5-bff1-c4dea9a98863"
      },
      "execution_count": 29,
      "outputs": [
        {
          "output_type": "stream",
          "name": "stdout",
          "text": [
            "499/499 [==============================] - 17s 34ms/step - loss: 0.0574 - accuracy: 0.9929\n"
          ]
        },
        {
          "output_type": "execute_result",
          "data": {
            "text/plain": [
              "[0.05735195800662041, 0.9928562641143799]"
            ]
          },
          "metadata": {},
          "execution_count": 29
        }
      ]
    },
    {
      "cell_type": "markdown",
      "source": [
        "# **GRU model**"
      ],
      "metadata": {
        "id": "t5gS_ssy5u5e"
      }
    },
    {
      "cell_type": "markdown",
      "source": [
        "## **Defining & training model**"
      ],
      "metadata": {
        "id": "A2D0I9dUMgup"
      }
    },
    {
      "cell_type": "code",
      "source": [
        "bidirectional_gru_model = models.Sequential()\n",
        "bidirectional_gru_model.add(layers.Embedding(vocab_size, 512, input_length=50))\n",
        "bidirectional_gru_model.add(layers.Bidirectional(layers.GRU(64)))\n",
        "bidirectional_gru_model.add(layers.Flatten())\n",
        "bidirectional_gru_model.add(layers.Dense(6, activation='sigmoid'))\n",
        "\n",
        "bidirectional_gru_model.compile(loss = \"binary_crossentropy\" , optimizer = \"Adamax\" , metrics = [\"accuracy\"] )\n",
        "trained_bidirectional_gru_model = bidirectional_gru_model.fit(x_train, y_train , validation_split = .2 , batch_size = 512 , epochs = 10)"
      ],
      "metadata": {
        "id": "Co8U_nvs5vMs",
        "colab": {
          "base_uri": "https://localhost:8080/"
        },
        "outputId": "9e628372-6636-4cd8-d5ae-379d68140188"
      },
      "execution_count": 30,
      "outputs": [
        {
          "output_type": "stream",
          "name": "stdout",
          "text": [
            "Epoch 1/10\n",
            "225/225 [==============================] - 12s 25ms/step - loss: 0.1303 - accuracy: 0.9181 - val_loss: 0.0630 - val_accuracy: 0.9939\n",
            "Epoch 2/10\n",
            "225/225 [==============================] - 5s 23ms/step - loss: 0.0566 - accuracy: 0.9941 - val_loss: 0.0559 - val_accuracy: 0.9942\n",
            "Epoch 3/10\n",
            "225/225 [==============================] - 5s 22ms/step - loss: 0.0509 - accuracy: 0.9942 - val_loss: 0.0541 - val_accuracy: 0.9942\n",
            "Epoch 4/10\n",
            "225/225 [==============================] - 5s 23ms/step - loss: 0.0478 - accuracy: 0.9942 - val_loss: 0.0535 - val_accuracy: 0.9942\n",
            "Epoch 5/10\n",
            "225/225 [==============================] - 5s 23ms/step - loss: 0.0453 - accuracy: 0.9942 - val_loss: 0.0536 - val_accuracy: 0.9942\n",
            "Epoch 6/10\n",
            "225/225 [==============================] - 5s 23ms/step - loss: 0.0430 - accuracy: 0.9942 - val_loss: 0.0532 - val_accuracy: 0.9942\n",
            "Epoch 7/10\n",
            "225/225 [==============================] - 5s 23ms/step - loss: 0.0410 - accuracy: 0.9942 - val_loss: 0.0547 - val_accuracy: 0.9942\n",
            "Epoch 8/10\n",
            "225/225 [==============================] - 5s 23ms/step - loss: 0.0391 - accuracy: 0.9942 - val_loss: 0.0543 - val_accuracy: 0.9941\n",
            "Epoch 9/10\n",
            "225/225 [==============================] - 5s 23ms/step - loss: 0.0374 - accuracy: 0.9920 - val_loss: 0.0537 - val_accuracy: 0.9931\n",
            "Epoch 10/10\n",
            "225/225 [==============================] - 5s 23ms/step - loss: 0.0356 - accuracy: 0.9901 - val_loss: 0.0555 - val_accuracy: 0.9883\n"
          ]
        }
      ]
    },
    {
      "cell_type": "markdown",
      "source": [
        "## **Saving model**"
      ],
      "metadata": {
        "id": "r4aIR_A0Mjfn"
      }
    },
    {
      "cell_type": "code",
      "source": [
        "# saving model\n",
        "import pickle\n",
        "bidirectional_gru_model.save(\"my_3rd_model\")\n",
        "pickle.dump(trained_bidirectional_gru_model,open(\"gru_model.sav\",\"wb\"))"
      ],
      "metadata": {
        "id": "J32gw2hoVURP",
        "colab": {
          "base_uri": "https://localhost:8080/"
        },
        "outputId": "048e1b10-cc3d-43c4-dd3c-bb389f6f9f4e"
      },
      "execution_count": 31,
      "outputs": [
        {
          "output_type": "stream",
          "name": "stderr",
          "text": [
            "WARNING:absl:Found untraced functions such as gru_cell_1_layer_call_fn, gru_cell_1_layer_call_and_return_conditional_losses, gru_cell_2_layer_call_fn, gru_cell_2_layer_call_and_return_conditional_losses while saving (showing 4 of 4). These functions will not be directly callable after loading.\n",
            "WARNING:absl:<keras.layers.recurrent.GRUCell object at 0x7f81e04f2610> has the same name 'GRUCell' as a built-in Keras object. Consider renaming <class 'keras.layers.recurrent.GRUCell'> to avoid naming conflicts when loading with `tf.keras.models.load_model`. If renaming is not possible, pass the object in the `custom_objects` parameter of the load function.\n",
            "WARNING:absl:<keras.layers.recurrent.GRUCell object at 0x7f81e050da10> has the same name 'GRUCell' as a built-in Keras object. Consider renaming <class 'keras.layers.recurrent.GRUCell'> to avoid naming conflicts when loading with `tf.keras.models.load_model`. If renaming is not possible, pass the object in the `custom_objects` parameter of the load function.\n",
            "WARNING:absl:Found untraced functions such as gru_cell_1_layer_call_fn, gru_cell_1_layer_call_and_return_conditional_losses, gru_cell_2_layer_call_fn, gru_cell_2_layer_call_and_return_conditional_losses while saving (showing 4 of 4). These functions will not be directly callable after loading.\n",
            "WARNING:absl:<keras.layers.recurrent.GRUCell object at 0x7f81e04f2610> has the same name 'GRUCell' as a built-in Keras object. Consider renaming <class 'keras.layers.recurrent.GRUCell'> to avoid naming conflicts when loading with `tf.keras.models.load_model`. If renaming is not possible, pass the object in the `custom_objects` parameter of the load function.\n",
            "WARNING:absl:<keras.layers.recurrent.GRUCell object at 0x7f81e050da10> has the same name 'GRUCell' as a built-in Keras object. Consider renaming <class 'keras.layers.recurrent.GRUCell'> to avoid naming conflicts when loading with `tf.keras.models.load_model`. If renaming is not possible, pass the object in the `custom_objects` parameter of the load function.\n"
          ]
        }
      ]
    },
    {
      "cell_type": "code",
      "source": [
        "# loading model\n",
        "# import pickle\n",
        "# bidirectional_gru_model = model.load(\"my_3rd_model\")\n",
        "# trained_bidirectional_gru_model = pickle.load(open(\"gru_model.sav\",\"rb\"))"
      ],
      "metadata": {
        "id": "tDxTxhnAmkRi"
      },
      "execution_count": 32,
      "outputs": []
    },
    {
      "cell_type": "code",
      "source": [
        "plot_curves(trained_bidirectional_gru_model,\"Bidirectional GRU\")"
      ],
      "metadata": {
        "id": "X3iY2vXC6SuF",
        "colab": {
          "base_uri": "https://localhost:8080/",
          "height": 573
        },
        "outputId": "1af9ad7c-f221-4997-ae55-8a963b0bccdd"
      },
      "execution_count": 33,
      "outputs": [
        {
          "output_type": "display_data",
          "data": {
            "text/plain": [
              "<Figure size 432x288 with 1 Axes>"
            ],
            "image/png": "[encoded data removed]"
          },
          "metadata": {
            "needs_background": "light"
          }
        },
        {
          "output_type": "display_data",
          "data": {
            "text/plain": [
              "<Figure size 432x288 with 1 Axes>"
            ],
            "image/png": "[encoded data removed]"
          },
          "metadata": {
            "needs_background": "light"
          }
        }
      ]
    },
    {
      "cell_type": "markdown",
      "source": [
        "## **Testing Model**"
      ],
      "metadata": {
        "id": "EpfN_nnYUOAk"
      }
    },
    {
      "cell_type": "code",
      "source": [
        "bidirectional_gru_model.evaluate(x_test,y_test)"
      ],
      "metadata": {
        "id": "Rq536rHeUURl",
        "colab": {
          "base_uri": "https://localhost:8080/"
        },
        "outputId": "1cc76174-a4d1-4dd5-a20d-6fed8dca9b24"
      },
      "execution_count": 34,
      "outputs": [
        {
          "output_type": "stream",
          "name": "stdout",
          "text": [
            "499/499 [==============================] - 2s 4ms/step - loss: 0.0543 - accuracy: 0.9882\n"
          ]
        },
        {
          "output_type": "execute_result",
          "data": {
            "text/plain": [
              "[0.05433035269379616, 0.9882190823554993]"
            ]
          },
          "metadata": {},
          "execution_count": 34
        }
      ]
    },
    {
      "cell_type": "markdown",
      "source": [
        "# **Conclusion**"
      ],
      "metadata": {
        "id": "FI6bleBfNlmn"
      }
    },
    {
      "cell_type": "markdown",
      "source": [
        "Now after training the three models above, if i've to choose one to tune i'd choose the third one (GRU model) since it's training time & accuracy makes it a perfect choice for future enhancements"
      ],
      "metadata": {
        "id": "_B0sRb5uNpY6"
      }
    }
  ],
  "metadata": {
    "colab": {
      "collapsed_sections": [],
      "provenance": []
    },
    "kernelspec": {
      "display_name": "Python 3",
      "name": "python3"
    },
    "language_info": {
      "name": "python"
    },
    "accelerator": "GPU"
  },
  "nbformat": 4,
  "nbformat_minor": 0
}